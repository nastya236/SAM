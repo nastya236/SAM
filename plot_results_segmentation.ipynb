{
 "cells": [
  {
   "cell_type": "code",
   "execution_count": 1,
   "metadata": {},
   "outputs": [
    {
     "name": "stderr",
     "output_type": "stream",
     "text": [
      "/var/folders/5m/c9lk_h8j0tx9wf017kg3733m0000gn/T/ipykernel_27055/3460533238.py:1: DeprecationWarning: \n",
      "Pyarrow will become a required dependency of pandas in the next major release of pandas (pandas 3.0),\n",
      "(to allow more performant data types, such as the Arrow string type, and better interoperability with other libraries)\n",
      "but was not found to be installed on your system.\n",
      "If this would cause problems for you,\n",
      "please provide us feedback at https://github.com/pandas-dev/pandas/issues/54466\n",
      "        \n",
      "  import pandas as pd\n"
     ]
    }
   ],
   "source": [
    "import pandas as pd\n",
    "import cv2\n",
    "import matplotlib.pyplot as plt\n",
    "import glob\n",
    "import numpy as np\n",
    "import seaborn as sns\n",
    "import os\n",
    "from PIL import Image"
   ]
  },
  {
   "cell_type": "code",
   "execution_count": 3,
   "metadata": {},
   "outputs": [],
   "source": [
    "def get_paths(data_path):\n",
    "\n",
    "    masks_paths = sorted(glob.glob(f\"{data_path}/masks/*\"))\n",
    "    image_paths = sorted(glob.glob(f\"{data_path}/cropped_frames/*\"))\n",
    "    return masks_paths, image_paths"
   ]
  },
  {
   "cell_type": "code",
   "execution_count": 4,
   "metadata": {},
   "outputs": [],
   "source": [
    "def extract_roi(masks, bottom=450):\n",
    "\n",
    "    center = masks.shape[-1] // 2\n",
    "\n",
    "    bottom_left = masks[:, bottom:, :center]\n",
    "    bottom_right = masks[:, bottom:, center:]\n",
    "    upper_left = masks[:, :bottom, :center]\n",
    "    upper_right = masks[:, :bottom, center:]\n",
    "\n",
    "    return bottom_left, bottom_right, upper_left, upper_right\n",
    "\n",
    "\n",
    "def get_area(masks):\n",
    "    return np.sum(masks, axis=(1, 2))"
   ]
  },
  {
   "cell_type": "code",
   "execution_count": 141,
   "metadata": {},
   "outputs": [],
   "source": [
    "def plot_area(ax, area_right, area_left, color):\n",
    "\n",
    "    plt.rcParams[\"figure.frameon\"] = False\n",
    "    cmap = plt.get_cmap(\"viridis\")\n",
    "    ax.spines[\"right\"].set_visible(False)\n",
    "    ax.spines[\"top\"].set_visible(False)\n",
    "\n",
    "    ax.plot(area_right, color=color, alpha=1)\n",
    "    ax.plot(area_left, color=\"grey\", alpha=1, linestyle=\"dashed\")\n",
    "    ax.set_ylim(-0.1, 0.7)\n",
    "    ax.set_xlabel(r\"Time (minutes)\")\n",
    "    ax.set_ylabel(r\"Relative area\")\n",
    "    sns.despine(\n",
    "        trim=True,\n",
    "    )\n",
    "    # plt.legend()\n",
    "    return ax"
   ]
  },
  {
   "cell_type": "code",
   "execution_count": 439,
   "metadata": {},
   "outputs": [],
   "source": [
    "def overlay_segmentation_cv(ind, image_paths, masks, color, alpha=0.4):\n",
    "    image = cv2.imread(image_paths[ind])\n",
    "    print(image_paths[ind])\n",
    "    mask = masks[ind]\n",
    "    overlay = np.zeros_like(image)\n",
    "    overlay[mask > 0] = color\n",
    "    cv2.addWeighted(overlay, alpha, image, 1 - alpha, 0, image)\n",
    "\n",
    "    return image"
   ]
  },
  {
   "cell_type": "code",
   "execution_count": 143,
   "metadata": {},
   "outputs": [],
   "source": [
    "def get_results(data_path):\n",
    "    masks_paths, image_paths = get_paths(data_path)\n",
    "    masks = np.array([np.load(i) for i in masks_paths])\n",
    "    print(masks.shape)\n",
    "    bottom_left, bottom_right, upper_left, upper_right = extract_roi(masks)\n",
    "\n",
    "    print(f\"Number of masks: {len(masks_paths)}, Number of images: {len(image_paths)}\")\n",
    "    assert len(masks_paths) == len(image_paths)\n",
    "\n",
    "    area_bottom_left = get_area(bottom_left)\n",
    "    area_bottom_right = get_area(bottom_right)\n",
    "    area_upper_left = get_area(upper_left)\n",
    "    area_upper_right = get_area(upper_right)\n",
    "\n",
    "    area_right = area_upper_right / (area_upper_right + area_bottom_right)\n",
    "    area_left = area_upper_left / (area_upper_left + area_bottom_left)\n",
    "\n",
    "    return area_right, area_left, image_paths, masks"
   ]
  },
  {
   "cell_type": "code",
   "execution_count": 393,
   "metadata": {},
   "outputs": [],
   "source": [
    "import matplotlib.colors as mcolors\n",
    "\n",
    "\n",
    "def hex_to_bgr(hex_color):\n",
    "    \"\"\"Convert a hexadecimal color string to a BGR tuple.\"\"\"\n",
    "    hex_color = hex_color.lstrip(\"#\")  # Remove '#' if present\n",
    "    lv = len(hex_color)\n",
    "    return tuple(int(hex_color[i : i + lv // 3], 16) for i in range(0, lv, lv // 3))[\n",
    "        ::-1\n",
    "    ]\n",
    "\n",
    "\n",
    "def convert_to_bgr(color):\n",
    "    # Use Matplotlib's CSS4_COLORS dictionary\n",
    "    css4_colors = mcolors.CSS4_COLORS\n",
    "\n",
    "    if isinstance(color, str):  # Handle named color\n",
    "        # Convert the named color to hexadecimal and then to BGR\n",
    "        hex_color = css4_colors.get(color.lower())\n",
    "        if hex_color:\n",
    "            bgr = hex_to_bgr(hex_color)\n",
    "        else:\n",
    "            print(f\"Named color '{color}' is not in the Matplotlib CSS4_COLORS list.\")\n",
    "    elif isinstance(color, tuple) and len(color) == 4:  # Handle RGBA tuple\n",
    "        # Convert RGBA to BGR (ignore alpha channel)\n",
    "        bgr = (int(color[2] * 255), int(color[1] * 255), int(color[0] * 255))\n",
    "    else:\n",
    "        print(f\"Input '{color}' is not recognized as a valid color format.\")\n",
    "\n",
    "    return bgr"
   ]
  },
  {
   "cell_type": "code",
   "execution_count": 144,
   "metadata": {},
   "outputs": [
    {
     "name": "stdout",
     "output_type": "stream",
     "text": [
      "data/ant_video_1\n",
      "(118, 710, 1100)\n",
      "Number of masks: 118, Number of images: 118\n",
      "data/ant_video_4\n",
      "(123, 710, 1100)\n",
      "Number of masks: 123, Number of images: 123\n",
      "data/ant_video_3\n",
      "(123, 710, 1100)\n",
      "Number of masks: 123, Number of images: 123\n",
      "data/ant_video_2\n",
      "(122, 710, 1100)\n",
      "Number of masks: 122, Number of images: 122\n",
      "data/ant_video_5\n",
      "(61, 710, 1100)\n",
      "Number of masks: 61, Number of images: 61\n"
     ]
    }
   ],
   "source": [
    "results = {}\n",
    "for path in glob.glob(\"data/*_video_*\"):\n",
    "    print(path)\n",
    "    results[path.split(\"/\")[-1]] = get_results(path)"
   ]
  },
  {
   "cell_type": "code",
   "execution_count": 145,
   "metadata": {},
   "outputs": [],
   "source": [
    "custom_order = [\n",
    "    \"ant_video_4\",\n",
    "    \"ant_video_5\",\n",
    "    \"ant_video_1\",\n",
    "    \"ant_video_2\",\n",
    "    \"ant_video_3\",\n",
    "]\n",
    "results_sorted = {\n",
    "    k: results[k] for k in sorted(results, key=lambda k: custom_order.index(k))\n",
    "}"
   ]
  },
  {
   "cell_type": "code",
   "execution_count": 381,
   "metadata": {},
   "outputs": [],
   "source": [
    "colors = [\"purple\", \"cyan\", \"darkorange\", \"darkblue\", \"salmon\"]\n",
    "os.m"
   ]
  },
  {
   "cell_type": "code",
   "execution_count": 414,
   "metadata": {},
   "outputs": [
    {
     "data": {
      "image/png": "[encoded data removed]",
      "text/plain": [
       "<Figure size 600x375 with 1 Axes>"
      ]
     },
     "metadata": {},
     "output_type": "display_data"
    }
   ],
   "source": [
    "fig = plt.figure(figsize=(4, 2.5), dpi=150)\n",
    "ax = fig.add_subplot(111)\n",
    "video_to_colors = {}\n",
    "for i, (key, values) in enumerate(results.items()):\n",
    "    plot_area(ax, values[0], values[1], color=colors[i])\n",
    "    video_to_colors[key] = convert_to_bgr(colors[i])\n",
    "fig.savefig(\"plots/all_together.png\", dpi=150, bbox_inches=\"tight\")"
   ]
  },
  {
   "cell_type": "code",
   "execution_count": 418,
   "metadata": {},
   "outputs": [],
   "source": [
    "# ax = plt.figure(figsize=(4, 2.5), dpi = 150).add_subplot(111)\n",
    "# ax.plot(np.arange(10), color='black',label='CCAP')\n",
    "# ax.plot(np.arange(10), color='black',label='scram', linestyle = 'dashed')\n",
    "# plt.legend()\n",
    "# plt.savefig('plots/all_together_labels.png', dpi = 500)"
   ]
  },
  {
   "cell_type": "code",
   "execution_count": 417,
   "metadata": {},
   "outputs": [],
   "source": [
    "# fig = plt.figure(figsize=(4, 2.5), dpi = 150)\n",
    "# ax = fig.add_subplot(111)\n",
    "# for i, (key, values) in enumerate(results.items()):\n",
    "#     ax.plot([0,0,0,0,0,0,0,0,0,0,0,0,3], color = colors[i], label = key)\n",
    "# plt.legend(loc='upper left')\n",
    "# fig.savefig('plots/all_together_labels_all.png', bbox_inches='tight', )"
   ]
  },
  {
   "cell_type": "code",
   "execution_count": 429,
   "metadata": {},
   "outputs": [],
   "source": [
    "for key in results.keys():\n",
    "    image_paths = results[key][2]\n",
    "    masks = results[key][3]\n",
    "    for ind in [0, len(image_paths) - 1]:\n",
    "        image_mask = overlay_segmentation_cv(\n",
    "            ind, image_paths, masks, color=video_to_colors[key], alpha=0.5\n",
    "        )\n",
    "        cv2.imwrite(f\"plots/{key}_{ind}.png\", image_mask)"
   ]
  },
  {
   "cell_type": "code",
   "execution_count": null,
   "metadata": {},
   "outputs": [],
   "source": []
  }
 ],
 "metadata": {
  "kernelspec": {
   "display_name": "Python 3 (ipykernel)",
   "language": "python",
   "name": "python3"
  },
  "language_info": {
   "codemirror_mode": {
    "name": "ipython",
    "version": 3
   },
   "file_extension": ".py",
   "mimetype": "text/x-python",
   "name": "python",
   "nbconvert_exporter": "python",
   "pygments_lexer": "ipython3",
   "version": "3.11.5"
  }
 },
 "nbformat": 4,
 "nbformat_minor": 4
}
